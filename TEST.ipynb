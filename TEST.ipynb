{
 "metadata": {
  "language_info": {
   "codemirror_mode": {
    "name": "ipython",
    "version": 3
   },
   "file_extension": ".py",
   "mimetype": "text/x-python",
   "name": "python",
   "nbconvert_exporter": "python",
   "pygments_lexer": "ipython3",
   "version": "3.8.2-final"
  },
  "orig_nbformat": 2,
  "kernelspec": {
   "name": "python3",
   "display_name": "Python 3.8.2 64-bit",
   "metadata": {
    "interpreter": {
     "hash": "2db524e06e9f5f4ffedc911c917cb75e12dbc923643829bf417064a77eb14d37"
    }
   }
  }
 },
 "nbformat": 4,
 "nbformat_minor": 2,
 "cells": [
  {
   "cell_type": "code",
   "execution_count": 40,
   "metadata": {},
   "outputs": [],
   "source": [
    "import pandas as pd\n",
    "name = ['คีย์บอร์ด','ตุ๊กตา','iphone 12']\n",
    "Category = ['อุปกรณ์คอม','ของเล่น','มือถือ']\n",
    "Price = [1200,900,30000]\n",
    "names =pd.Series(name)\n",
    "categorys=pd.Series(Category)\n",
    "prices=pd.Series(Price)\n",
    "\n",
    "frame ={'Name':names,'Category':categorys,'Price':prices}\n",
    "\n",
    "df=pd.DataFrame(frame)\n"
   ]
  },
  {
   "cell_type": "code",
   "execution_count": 41,
   "metadata": {},
   "outputs": [
    {
     "output_type": "execute_result",
     "data": {
      "text/plain": [
       "        Name    Category  Price\n",
       "0  คีย์บอร์ด  อุปกรณ์คอม   1200\n",
       "1     ตุ๊กตา     ของเล่น    900\n",
       "2  iphone 12      มือถือ  30000"
      ],
      "text/html": "<div>\n<style scoped>\n    .dataframe tbody tr th:only-of-type {\n        vertical-align: middle;\n    }\n\n    .dataframe tbody tr th {\n        vertical-align: top;\n    }\n\n    .dataframe thead th {\n        text-align: right;\n    }\n</style>\n<table border=\"1\" class=\"dataframe\">\n  <thead>\n    <tr style=\"text-align: right;\">\n      <th></th>\n      <th>Name</th>\n      <th>Category</th>\n      <th>Price</th>\n    </tr>\n  </thead>\n  <tbody>\n    <tr>\n      <th>0</th>\n      <td>คีย์บอร์ด</td>\n      <td>อุปกรณ์คอม</td>\n      <td>1200</td>\n    </tr>\n    <tr>\n      <th>1</th>\n      <td>ตุ๊กตา</td>\n      <td>ของเล่น</td>\n      <td>900</td>\n    </tr>\n    <tr>\n      <th>2</th>\n      <td>iphone 12</td>\n      <td>มือถือ</td>\n      <td>30000</td>\n    </tr>\n  </tbody>\n</table>\n</div>"
     },
     "metadata": {},
     "execution_count": 41
    }
   ],
   "source": [
    "df"
   ]
  },
  {
   "cell_type": "code",
   "execution_count": 42,
   "metadata": {},
   "outputs": [],
   "source": [
    "df.to_csv (\"products.csv\",)"
   ]
  },
  {
   "cell_type": "code",
   "execution_count": 43,
   "metadata": {},
   "outputs": [],
   "source": [
    "df.to_csv (\"products2.csv\",index=False)"
   ]
  },
  {
   "cell_type": "code",
   "execution_count": 45,
   "metadata": {},
   "outputs": [
    {
     "output_type": "execute_result",
     "data": {
      "text/plain": [
       "        Name    Category  Price\n",
       "0  คีย์บอร์ด  อุปกรณ์คอม   1200\n",
       "1     ตุ๊กตา     ของเล่น    900\n",
       "2  iphone 12      มือถือ  30000"
      ],
      "text/html": "<div>\n<style scoped>\n    .dataframe tbody tr th:only-of-type {\n        vertical-align: middle;\n    }\n\n    .dataframe tbody tr th {\n        vertical-align: top;\n    }\n\n    .dataframe thead th {\n        text-align: right;\n    }\n</style>\n<table border=\"1\" class=\"dataframe\">\n  <thead>\n    <tr style=\"text-align: right;\">\n      <th></th>\n      <th>Name</th>\n      <th>Category</th>\n      <th>Price</th>\n    </tr>\n  </thead>\n  <tbody>\n    <tr>\n      <th>0</th>\n      <td>คีย์บอร์ด</td>\n      <td>อุปกรณ์คอม</td>\n      <td>1200</td>\n    </tr>\n    <tr>\n      <th>1</th>\n      <td>ตุ๊กตา</td>\n      <td>ของเล่น</td>\n      <td>900</td>\n    </tr>\n    <tr>\n      <th>2</th>\n      <td>iphone 12</td>\n      <td>มือถือ</td>\n      <td>30000</td>\n    </tr>\n  </tbody>\n</table>\n</div>"
     },
     "metadata": {},
     "execution_count": 45
    }
   ],
   "source": [
    "import pandas as pd\n",
    "df = pd.read_csv('products2.csv',encoding='utf-8')\n",
    "df.head()"
   ]
  },
  {
   "cell_type": "code",
   "execution_count": 48,
   "metadata": {},
   "outputs": [],
   "source": [
    "import pandas as pd\n",
    "cols = [\"Name\",\"Price\"]\n",
    "df = pd.read_csv('products.csv',encoding='utf-8',usecols=cols)"
   ]
  },
  {
   "cell_type": "code",
   "execution_count": 49,
   "metadata": {},
   "outputs": [
    {
     "output_type": "execute_result",
     "data": {
      "text/plain": [
       "        Name  Price\n",
       "0  คีย์บอร์ด   1200\n",
       "1     ตุ๊กตา    900\n",
       "2  iphone 12  30000"
      ],
      "text/html": "<div>\n<style scoped>\n    .dataframe tbody tr th:only-of-type {\n        vertical-align: middle;\n    }\n\n    .dataframe tbody tr th {\n        vertical-align: top;\n    }\n\n    .dataframe thead th {\n        text-align: right;\n    }\n</style>\n<table border=\"1\" class=\"dataframe\">\n  <thead>\n    <tr style=\"text-align: right;\">\n      <th></th>\n      <th>Name</th>\n      <th>Price</th>\n    </tr>\n  </thead>\n  <tbody>\n    <tr>\n      <th>0</th>\n      <td>คีย์บอร์ด</td>\n      <td>1200</td>\n    </tr>\n    <tr>\n      <th>1</th>\n      <td>ตุ๊กตา</td>\n      <td>900</td>\n    </tr>\n    <tr>\n      <th>2</th>\n      <td>iphone 12</td>\n      <td>30000</td>\n    </tr>\n  </tbody>\n</table>\n</div>"
     },
     "metadata": {},
     "execution_count": 49
    }
   ],
   "source": [
    "df"
   ]
  },
  {
   "cell_type": "code",
   "execution_count": 50,
   "metadata": {},
   "outputs": [],
   "source": [
    "df = pd.read_csv('products.csv',encoding='utf-8',usecols=cols,index_col=\"Name\")"
   ]
  },
  {
   "cell_type": "code",
   "execution_count": 51,
   "metadata": {},
   "outputs": [
    {
     "output_type": "execute_result",
     "data": {
      "text/plain": [
       "           Price\n",
       "Name            \n",
       "คีย์บอร์ด   1200\n",
       "ตุ๊กตา       900\n",
       "iphone 12  30000"
      ],
      "text/html": "<div>\n<style scoped>\n    .dataframe tbody tr th:only-of-type {\n        vertical-align: middle;\n    }\n\n    .dataframe tbody tr th {\n        vertical-align: top;\n    }\n\n    .dataframe thead th {\n        text-align: right;\n    }\n</style>\n<table border=\"1\" class=\"dataframe\">\n  <thead>\n    <tr style=\"text-align: right;\">\n      <th></th>\n      <th>Price</th>\n    </tr>\n    <tr>\n      <th>Name</th>\n      <th></th>\n    </tr>\n  </thead>\n  <tbody>\n    <tr>\n      <th>คีย์บอร์ด</th>\n      <td>1200</td>\n    </tr>\n    <tr>\n      <th>ตุ๊กตา</th>\n      <td>900</td>\n    </tr>\n    <tr>\n      <th>iphone 12</th>\n      <td>30000</td>\n    </tr>\n  </tbody>\n</table>\n</div>"
     },
     "metadata": {},
     "execution_count": 51
    }
   ],
   "source": [
    "df"
   ]
  },
  {
   "cell_type": "code",
   "execution_count": 52,
   "metadata": {},
   "outputs": [
    {
     "output_type": "stream",
     "name": "stdout",
     "text": [
      "Collecting xlrdNote: you may need to restart the kernel to use updated packages.\n  Using cached xlrd-2.0.1-py2.py3-none-any.whl (96 kB)\n\nInstalling collected packages: xlrd\nSuccessfully installed xlrd-2.0.1\n"
     ]
    }
   ],
   "source": [
    "pip install xlrd\n"
   ]
  },
  {
   "cell_type": "code",
   "execution_count": 57,
   "metadata": {},
   "outputs": [
    {
     "output_type": "error",
     "ename": "TypeError",
     "evalue": "read_excel() got an unexpected keyword argument 'encoding'",
     "traceback": [
      "\u001b[1;31m---------------------------------------------------------------------------\u001b[0m",
      "\u001b[1;31mTypeError\u001b[0m                                 Traceback (most recent call last)",
      "\u001b[1;32m<ipython-input-57-2e9c1731c654>\u001b[0m in \u001b[0;36m<module>\u001b[1;34m\u001b[0m\n\u001b[0;32m      1\u001b[0m \u001b[1;32mimport\u001b[0m \u001b[0mpandas\u001b[0m \u001b[1;32mas\u001b[0m \u001b[0mpd\u001b[0m\u001b[1;33m\u001b[0m\u001b[1;33m\u001b[0m\u001b[0m\n\u001b[1;32m----> 2\u001b[1;33m \u001b[0mdf\u001b[0m \u001b[1;33m=\u001b[0m \u001b[0mpd\u001b[0m\u001b[1;33m.\u001b[0m\u001b[0mread_excel\u001b[0m\u001b[1;33m(\u001b[0m\u001b[1;34m\"dataupdate.xlsx\"\u001b[0m\u001b[1;33m,\u001b[0m\u001b[1;34m\"weather\"\u001b[0m\u001b[1;33m,\u001b[0m\u001b[0mencoding\u001b[0m\u001b[1;33m=\u001b[0m\u001b[1;34m\"utf-8\"\u001b[0m\u001b[1;33m,\u001b[0m\u001b[0mindex_col\u001b[0m\u001b[1;33m=\u001b[0m\u001b[1;34m\"Day\"\u001b[0m\u001b[1;33m)\u001b[0m\u001b[1;33m\u001b[0m\u001b[1;33m\u001b[0m\u001b[0m\n\u001b[0m",
      "\u001b[1;32mC:\\Python38\\lib\\site-packages\\pandas\\util\\_decorators.py\u001b[0m in \u001b[0;36mwrapper\u001b[1;34m(*args, **kwargs)\u001b[0m\n\u001b[0;32m    297\u001b[0m                 )\n\u001b[0;32m    298\u001b[0m                 \u001b[0mwarnings\u001b[0m\u001b[1;33m.\u001b[0m\u001b[0mwarn\u001b[0m\u001b[1;33m(\u001b[0m\u001b[0mmsg\u001b[0m\u001b[1;33m,\u001b[0m \u001b[0mFutureWarning\u001b[0m\u001b[1;33m,\u001b[0m \u001b[0mstacklevel\u001b[0m\u001b[1;33m=\u001b[0m\u001b[0mstacklevel\u001b[0m\u001b[1;33m)\u001b[0m\u001b[1;33m\u001b[0m\u001b[1;33m\u001b[0m\u001b[0m\n\u001b[1;32m--> 299\u001b[1;33m             \u001b[1;32mreturn\u001b[0m \u001b[0mfunc\u001b[0m\u001b[1;33m(\u001b[0m\u001b[1;33m*\u001b[0m\u001b[0margs\u001b[0m\u001b[1;33m,\u001b[0m \u001b[1;33m**\u001b[0m\u001b[0mkwargs\u001b[0m\u001b[1;33m)\u001b[0m\u001b[1;33m\u001b[0m\u001b[1;33m\u001b[0m\u001b[0m\n\u001b[0m\u001b[0;32m    300\u001b[0m \u001b[1;33m\u001b[0m\u001b[0m\n\u001b[0;32m    301\u001b[0m         \u001b[1;32mreturn\u001b[0m \u001b[0mwrapper\u001b[0m\u001b[1;33m\u001b[0m\u001b[1;33m\u001b[0m\u001b[0m\n",
      "\u001b[1;31mTypeError\u001b[0m: read_excel() got an unexpected keyword argument 'encoding'"
     ]
    }
   ],
   "source": [
    "import pandas as pd \n",
    "df = pd.read_excel(\"dataupdate.xlsx\",\"weather\",encoding=\"utf-8\",index_col=\"Day\")\n"
   ]
  },
  {
   "cell_type": "code",
   "execution_count": 54,
   "metadata": {},
   "outputs": [
    {
     "output_type": "stream",
     "name": "stdout",
     "text": [
      "Package               VersionNote: you may need to restart the kernel to use updated packages.\n",
      "--------------------- ---------\n",
      "-                     p\n",
      "-ip                   20.0.2\n",
      "-p                    19.2.3\n",
      "appdirs               1.4.4\n",
      "asgiref               3.3.1\n",
      "attrs                 19.3.0\n",
      "autopy                4.0.0\n",
      "backcall              0.1.0\n",
      "\n",
      "bleach                3.1.4\n",
      "boto3                 1.12.40\n",
      "botocore              1.15.40\n",
      "certifi               2020.6.20\n",
      "chardet               3.0.4\n",
      "colorama              0.4.3\n",
      "colormap              1.0.3\n",
      "decorator             4.4.2\n",
      "defusedxml            0.6.0\n",
      "distlib               0.3.1\n",
      "Django                2.2.7\n",
      "django-compressor     1.4\n",
      "django-inventory      1.0rc1\n",
      "django-model-utils    3.1.2\n",
      "django-pagination     1.0.7\n",
      "django-photologue     2.3\n",
      "django-solo           1.0.5\n",
      "docutils              0.15.2\n",
      "entrypoints           0.3\n",
      "filelock              3.0.12\n",
      "forex-python          1.5\n",
      "idna                  2.10\n",
      "ipykernel             5.2.1\n",
      "ipython               7.13.0\n",
      "ipython-genutils      0.2.0\n",
      "ipywidgets            7.5.1\n",
      "jedi                  0.17.0\n",
      "Jinja2                2.11.2\n",
      "jmespath              0.9.5\n",
      "jsonschema            3.2.0\n",
      "jupyter               1.0.0\n",
      "jupyter-client        6.1.3\n",
      "jupyter-console       6.1.0\n",
      "jupyter-core          4.6.3\n",
      "MarkupSafe            1.1.1\n",
      "mistune               0.8.4\n",
      "nbconvert             5.6.1\n",
      "nbformat              5.0.5\n",
      "notebook              6.0.3\n",
      "numpy                 1.19.4\n",
      "pandas                1.2.3\n",
      "pandocfilters         1.4.2\n",
      "parso                 0.7.0\n",
      "pickleshare           0.7.5\n",
      "pillow                8.0.1\n",
      "pip                   21.0.1\n",
      "prometheus-client     0.7.1\n",
      "prompt-toolkit        3.0.5\n",
      "Pygments              2.6.1\n",
      "pyrsistent            0.16.0\n",
      "python-dateutil       2.8.1\n",
      "pytz                  2020.4\n",
      "pywin32               227\n",
      "pywinpty              0.5.7\n",
      "PyYAML                5.4.1\n",
      "pyzmq                 19.0.0\n",
      "qtconsole             4.7.2\n",
      "QtPy                  1.9.0\n",
      "requests              2.24.0\n",
      "s3transfer            0.3.3\n",
      "selenium              3.141.0\n",
      "Send2Trash            1.5.0\n",
      "setuptools            50.3.2\n",
      "simple-http-server    0.1.7\n",
      "simplejson            3.17.2\n",
      "six                   1.14.0\n",
      "south                 1.0\n",
      "sqlparse              0.4.1\n",
      "terminado             0.8.3\n",
      "testpath              0.4.4\n",
      "tornado               6.0.4\n",
      "traitlets             4.3.3\n",
      "urllib3               1.25.8\n",
      "virtualenv            20.1.0\n",
      "virtualenvwrapper-win 1.2.6\n",
      "wcwidth               0.1.9\n",
      "webencodings          0.5.1\n",
      "wheel                 0.35.1\n",
      "widgetsnbextension    3.5.1\n",
      "xlrd                  2.0.1\n"
     ]
    }
   ],
   "source": [
    "pip list"
   ]
  },
  {
   "cell_type": "code",
   "execution_count": null,
   "metadata": {},
   "outputs": [],
   "source": []
  }
 ]
}